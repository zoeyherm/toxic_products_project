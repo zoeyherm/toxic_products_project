{
 "cells": [
  {
   "cell_type": "markdown",
   "metadata": {},
   "source": [
    "https://www.kaggle.com/albertovilla/scrapping-ewg-tap-water-database"
   ]
  },
  {
   "cell_type": "code",
   "execution_count": 2,
   "metadata": {},
   "outputs": [],
   "source": [
    "from __future__ import print_function, division\n",
    "import requests\n",
    "requests.__path__\n",
    "from bs4 import BeautifulSoup\n",
    "from collections import defaultdict\n",
    "import pandas as pd\n",
    "import numpy as np\n",
    "import pickle\n",
    "import random\n",
    "import time"
   ]
  },
  {
   "cell_type": "code",
   "execution_count": 3,
   "metadata": {},
   "outputs": [],
   "source": [
    "url = 'https://www.ewg.org/skindeep/browse.php?category=shampoo&&showmore=products&start=10'\n",
    "response = requests.get(url)\n",
    "response.status_code\n",
    "page = response.text\n",
    "soup = BeautifulSoup(page, 'lxml')"
   ]
  },
  {
   "cell_type": "code",
   "execution_count": 4,
   "metadata": {},
   "outputs": [],
   "source": [
    "name_list = []\n",
    "\n",
    "for name in soup.find_all(class_ = 'product_name_list'):\n",
    "    name_list.append(name.find('a').text)\n",
    "\n",
    "name_Series = pd.Series(name_list)"
   ]
  },
  {
   "cell_type": "code",
   "execution_count": 5,
   "metadata": {},
   "outputs": [],
   "source": [
    "rating_pic_list = []\n",
    "for pic in soup.find_all('img'):\n",
    "    if 'EWGV_SD_Mark' in str(pic) or 'score_image' in str(pic):\n",
    "        rating_pic_list.append(str(pic))\n",
    "\n",
    "rating_list = []\n",
    "for pic in rating_pic_list:\n",
    "    pic = pic.split('/')\n",
    "    if 'EWGV_SD_Mark.png\"' in pic: \n",
    "        rating = 1\n",
    "    else:\n",
    "        rating = pic[6].split('__')[0]\n",
    "        rating = rating.split('image')[1]\n",
    "    rating_list.append(rating)\n",
    "\n",
    "rating_series = pd.Series(rating_list)"
   ]
  },
  {
   "cell_type": "code",
   "execution_count": 6,
   "metadata": {},
   "outputs": [],
   "source": [
    "link_list = []\n",
    "\n",
    "for link in soup.find_all(class_ = 'product_name_list'):    \n",
    "    link_list.append('https://www.ewg.org' + str((link.find('a')['href'])))"
   ]
  },
  {
   "cell_type": "code",
   "execution_count": 35,
   "metadata": {},
   "outputs": [],
   "source": [
    "with open('firstdfpickle.pickle','rb') as read_file:\n",
    "    newdf = pickle.load(read_file)"
   ]
  },
  {
   "cell_type": "code",
   "execution_count": 25,
   "metadata": {},
   "outputs": [
    {
     "name": "stdout",
     "output_type": "stream",
     "text": [
      "0 200\n",
      "1000 200\n",
      "2000 200\n",
      "3000 200\n"
     ]
    }
   ],
   "source": [
    "name_list, rating_list, link_list = [], [], []\n",
    "\n",
    "for i in range(0, 3909, 1000):\n",
    "    # if i == 1000:\n",
    "    #    break\n",
    "    \n",
    "    # if i % 20 == 0:\n",
    "    #    time.sleep(5)\n",
    "        \n",
    "    url = 'https://www.ewg.org/skindeep/browse.php?atatime=1000&category=shampoo&&showmore=products&start=' + str(i)\n",
    "    time.sleep(2 + 0.5*random.randint(1, 10))\n",
    "    response = requests.get(url)\n",
    "    print(i, response.status_code)\n",
    "    \n",
    "    page = response.text\n",
    "    soup = BeautifulSoup(page, 'lxml')\n",
    "    \n",
    "    for name in soup.find_all(class_ = 'product_name_list'):\n",
    "        name_list.append(name.find('a').text)\n",
    "    \n",
    "    for link in soup.find_all(class_ = 'product_name_list'):    \n",
    "        link_list.append('https://www.ewg.org' + str((link.find('a')['href'])))\n",
    "\n",
    "    rating_pic_list = []\n",
    "    \n",
    "    for pic in soup.find_all('img'):\n",
    "        if 'EWGV_SD_Mark' in str(pic) or 'score_image' in str(pic):\n",
    "            rating_pic_list.append(str(pic))\n",
    "    \n",
    "    for pic in rating_pic_list:\n",
    "        pic = pic.split('/')\n",
    "        if 'EWGV_SD_Mark.png\"' in pic: \n",
    "            rating = 1\n",
    "        else:\n",
    "            rating = pic[6].split('__')[0]\n",
    "            rating = rating.split('image')[1]\n",
    "        rating_list.append(str(rating))"
   ]
  },
  {
   "cell_type": "code",
   "execution_count": 26,
   "metadata": {
    "scrolled": true
   },
   "outputs": [
    {
     "name": "stdout",
     "output_type": "stream",
     "text": [
      "<class 'pandas.core.frame.DataFrame'>\n",
      "RangeIndex: 3908 entries, 0 to 3907\n",
      "Data columns (total 3 columns):\n",
      "name      3908 non-null object\n",
      "rating    3908 non-null object\n",
      "link      3908 non-null object\n",
      "dtypes: object(3)\n",
      "memory usage: 91.7+ KB\n"
     ]
    }
   ],
   "source": [
    "df = pd.DataFrame({'name': name_list, 'rating': rating_list, 'link': link_list})\n",
    "df.info()"
   ]
  },
  {
   "cell_type": "code",
   "execution_count": 27,
   "metadata": {},
   "outputs": [
    {
     "data": {
      "text/html": [
       "<div>\n",
       "<style scoped>\n",
       "    .dataframe tbody tr th:only-of-type {\n",
       "        vertical-align: middle;\n",
       "    }\n",
       "\n",
       "    .dataframe tbody tr th {\n",
       "        vertical-align: top;\n",
       "    }\n",
       "\n",
       "    .dataframe thead th {\n",
       "        text-align: right;\n",
       "    }\n",
       "</style>\n",
       "<table border=\"1\" class=\"dataframe\">\n",
       "  <thead>\n",
       "    <tr style=\"text-align: right;\">\n",
       "      <th></th>\n",
       "      <th>name</th>\n",
       "      <th>rating</th>\n",
       "      <th>link</th>\n",
       "    </tr>\n",
       "  </thead>\n",
       "  <tbody>\n",
       "    <tr>\n",
       "      <td>0</td>\n",
       "      <td>Boyzz Only No Nonsense Hair &amp; Body Wash</td>\n",
       "      <td>1</td>\n",
       "      <td>https://www.ewg.org/skindeep/product/707461/Bo...</td>\n",
       "    </tr>\n",
       "    <tr>\n",
       "      <td>1</td>\n",
       "      <td>Soap for Goodness Sake Babassu Shampoo and Bod...</td>\n",
       "      <td>1</td>\n",
       "      <td>https://www.ewg.org/skindeep/product/701926/So...</td>\n",
       "    </tr>\n",
       "    <tr>\n",
       "      <td>2</td>\n",
       "      <td>Soap for Goodness Sake Shampoo and Body Bar, S...</td>\n",
       "      <td>1</td>\n",
       "      <td>https://www.ewg.org/skindeep/product/701976/So...</td>\n",
       "    </tr>\n",
       "    <tr>\n",
       "      <td>3</td>\n",
       "      <td>Aromatica B5 + Biotin Fortifying Shampoo</td>\n",
       "      <td>1</td>\n",
       "      <td>https://www.ewg.org/skindeep/product/816883/Ar...</td>\n",
       "    </tr>\n",
       "    <tr>\n",
       "      <td>4</td>\n",
       "      <td>Aromatica Cypress Deep Cleansing Shampoo</td>\n",
       "      <td>1</td>\n",
       "      <td>https://www.ewg.org/skindeep/product/833682/Ar...</td>\n",
       "    </tr>\n",
       "    <tr>\n",
       "      <td>5</td>\n",
       "      <td>ATTITUDE Natural Treatment Shampoo</td>\n",
       "      <td>1</td>\n",
       "      <td>https://www.ewg.org/skindeep/product/669787/AT...</td>\n",
       "    </tr>\n",
       "    <tr>\n",
       "      <td>6</td>\n",
       "      <td>ATTITUDE Sensitive Skin Shampoo, extra gentle ...</td>\n",
       "      <td>1</td>\n",
       "      <td>https://www.ewg.org/skindeep/product/773165/AT...</td>\n",
       "    </tr>\n",
       "    <tr>\n",
       "      <td>7</td>\n",
       "      <td>ATTITUDE Sensitive Skin Shampoo, nourish &amp; shi...</td>\n",
       "      <td>1</td>\n",
       "      <td>https://www.ewg.org/skindeep/product/773168/AT...</td>\n",
       "    </tr>\n",
       "    <tr>\n",
       "      <td>8</td>\n",
       "      <td>ATTITUDE Sensitive Skin Shampoo, repair &amp; colo...</td>\n",
       "      <td>1</td>\n",
       "      <td>https://www.ewg.org/skindeep/product/773166/AT...</td>\n",
       "    </tr>\n",
       "    <tr>\n",
       "      <td>9</td>\n",
       "      <td>ATTITUDE Sensitive Skin Shampoo, soothing &amp; vo...</td>\n",
       "      <td>1</td>\n",
       "      <td>https://www.ewg.org/skindeep/product/773169/AT...</td>\n",
       "    </tr>\n",
       "    <tr>\n",
       "      <td>10</td>\n",
       "      <td>ATTITUDE Super Leaves Natural Shampoo &amp; Body W...</td>\n",
       "      <td>1</td>\n",
       "      <td>https://www.ewg.org/skindeep/product/741537/AT...</td>\n",
       "    </tr>\n",
       "    <tr>\n",
       "      <td>11</td>\n",
       "      <td>ATTITUDE Super Leaves Natural Shampoo &amp; Body W...</td>\n",
       "      <td>1</td>\n",
       "      <td>https://www.ewg.org/skindeep/product/741538/AT...</td>\n",
       "    </tr>\n",
       "    <tr>\n",
       "      <td>12</td>\n",
       "      <td>ATTITUDE Super Leaves Natural Shampoo - Clarif...</td>\n",
       "      <td>1</td>\n",
       "      <td>https://www.ewg.org/skindeep/product/741541/AT...</td>\n",
       "    </tr>\n",
       "    <tr>\n",
       "      <td>13</td>\n",
       "      <td>ATTITUDE Super Leaves Natural Shampoo - Moistu...</td>\n",
       "      <td>1</td>\n",
       "      <td>https://www.ewg.org/skindeep/product/741539/AT...</td>\n",
       "    </tr>\n",
       "    <tr>\n",
       "      <td>14</td>\n",
       "      <td>ATTITUDE Super Leaves Natural Shampoo - Nouris...</td>\n",
       "      <td>1</td>\n",
       "      <td>https://www.ewg.org/skindeep/product/741542/AT...</td>\n",
       "    </tr>\n",
       "    <tr>\n",
       "      <td>15</td>\n",
       "      <td>ATTITUDE Super Leaves Natural Shampoo - Volume...</td>\n",
       "      <td>1</td>\n",
       "      <td>https://www.ewg.org/skindeep/product/741540/AT...</td>\n",
       "    </tr>\n",
       "    <tr>\n",
       "      <td>16</td>\n",
       "      <td>Attitude Super Leaves Shampoo, color protection</td>\n",
       "      <td>1</td>\n",
       "      <td>https://www.ewg.org/skindeep/product/771236/At...</td>\n",
       "    </tr>\n",
       "    <tr>\n",
       "      <td>17</td>\n",
       "      <td>Baja Baby Lavender Shampoo &amp; Wash</td>\n",
       "      <td>1</td>\n",
       "      <td>https://www.ewg.org/skindeep/product/704945/Ba...</td>\n",
       "    </tr>\n",
       "    <tr>\n",
       "      <td>18</td>\n",
       "      <td>Baja Baby Soft Citrus Shampoo &amp; Wash</td>\n",
       "      <td>1</td>\n",
       "      <td>https://www.ewg.org/skindeep/product/704942/Ba...</td>\n",
       "    </tr>\n",
       "    <tr>\n",
       "      <td>19</td>\n",
       "      <td>Baja Baby Unscented Shampoo &amp; Wash</td>\n",
       "      <td>1</td>\n",
       "      <td>https://www.ewg.org/skindeep/product/705624/Ba...</td>\n",
       "    </tr>\n",
       "    <tr>\n",
       "      <td>20</td>\n",
       "      <td>Be Green Bath &amp; Body Dry Shampoo</td>\n",
       "      <td>1</td>\n",
       "      <td>https://www.ewg.org/skindeep/product/671087/Be...</td>\n",
       "    </tr>\n",
       "    <tr>\n",
       "      <td>21</td>\n",
       "      <td>Beautycounter Smooth &amp; Control Shampoo</td>\n",
       "      <td>1</td>\n",
       "      <td>https://www.ewg.org/skindeep/product/768936/Be...</td>\n",
       "    </tr>\n",
       "    <tr>\n",
       "      <td>22</td>\n",
       "      <td>Beautycounter Volume &amp; Shape Shampoo</td>\n",
       "      <td>1</td>\n",
       "      <td>https://www.ewg.org/skindeep/product/768932/Be...</td>\n",
       "    </tr>\n",
       "    <tr>\n",
       "      <td>23</td>\n",
       "      <td>Boyzz Only No Nonsense Shampoo</td>\n",
       "      <td>1</td>\n",
       "      <td>https://www.ewg.org/skindeep/product/707458/Bo...</td>\n",
       "    </tr>\n",
       "    <tr>\n",
       "      <td>24</td>\n",
       "      <td>Clean Kids Natually Tropical Orange Burst Shampoo</td>\n",
       "      <td>1</td>\n",
       "      <td>https://www.ewg.org/skindeep/product/771650/Cl...</td>\n",
       "    </tr>\n",
       "    <tr>\n",
       "      <td>25</td>\n",
       "      <td>Clevos Natura Foresta Eucalyptus Shampoo</td>\n",
       "      <td>1</td>\n",
       "      <td>https://www.ewg.org/skindeep/product/739623/Cl...</td>\n",
       "    </tr>\n",
       "    <tr>\n",
       "      <td>26</td>\n",
       "      <td>Clevos Natura Foresta Rosemary Shampoo</td>\n",
       "      <td>1</td>\n",
       "      <td>https://www.ewg.org/skindeep/product/739621/Cl...</td>\n",
       "    </tr>\n",
       "    <tr>\n",
       "      <td>27</td>\n",
       "      <td>Conscious Skincare Cypress and Sage Organic Sh...</td>\n",
       "      <td>1</td>\n",
       "      <td>https://www.ewg.org/skindeep/product/769392/Co...</td>\n",
       "    </tr>\n",
       "    <tr>\n",
       "      <td>28</td>\n",
       "      <td>Conscious Skincare Grapefruit, Lemon and Cedar...</td>\n",
       "      <td>1</td>\n",
       "      <td>https://www.ewg.org/skindeep/product/708190/Co...</td>\n",
       "    </tr>\n",
       "    <tr>\n",
       "      <td>29</td>\n",
       "      <td>Conscious Skincare Pure Shampoo Sulfate Free P...</td>\n",
       "      <td>1</td>\n",
       "      <td>https://www.ewg.org/skindeep/product/780110/Co...</td>\n",
       "    </tr>\n",
       "  </tbody>\n",
       "</table>\n",
       "</div>"
      ],
      "text/plain": [
       "                                                 name rating  \\\n",
       "0             Boyzz Only No Nonsense Hair & Body Wash      1   \n",
       "1   Soap for Goodness Sake Babassu Shampoo and Bod...      1   \n",
       "2   Soap for Goodness Sake Shampoo and Body Bar, S...      1   \n",
       "3            Aromatica B5 + Biotin Fortifying Shampoo      1   \n",
       "4            Aromatica Cypress Deep Cleansing Shampoo      1   \n",
       "5                  ATTITUDE Natural Treatment Shampoo      1   \n",
       "6   ATTITUDE Sensitive Skin Shampoo, extra gentle ...      1   \n",
       "7   ATTITUDE Sensitive Skin Shampoo, nourish & shi...      1   \n",
       "8   ATTITUDE Sensitive Skin Shampoo, repair & colo...      1   \n",
       "9   ATTITUDE Sensitive Skin Shampoo, soothing & vo...      1   \n",
       "10  ATTITUDE Super Leaves Natural Shampoo & Body W...      1   \n",
       "11  ATTITUDE Super Leaves Natural Shampoo & Body W...      1   \n",
       "12  ATTITUDE Super Leaves Natural Shampoo - Clarif...      1   \n",
       "13  ATTITUDE Super Leaves Natural Shampoo - Moistu...      1   \n",
       "14  ATTITUDE Super Leaves Natural Shampoo - Nouris...      1   \n",
       "15  ATTITUDE Super Leaves Natural Shampoo - Volume...      1   \n",
       "16    Attitude Super Leaves Shampoo, color protection      1   \n",
       "17                  Baja Baby Lavender Shampoo & Wash      1   \n",
       "18               Baja Baby Soft Citrus Shampoo & Wash      1   \n",
       "19                 Baja Baby Unscented Shampoo & Wash      1   \n",
       "20                   Be Green Bath & Body Dry Shampoo      1   \n",
       "21             Beautycounter Smooth & Control Shampoo      1   \n",
       "22               Beautycounter Volume & Shape Shampoo      1   \n",
       "23                     Boyzz Only No Nonsense Shampoo      1   \n",
       "24  Clean Kids Natually Tropical Orange Burst Shampoo      1   \n",
       "25          Clevos Natura Foresta Eucalyptus Shampoo       1   \n",
       "26            Clevos Natura Foresta Rosemary Shampoo       1   \n",
       "27  Conscious Skincare Cypress and Sage Organic Sh...      1   \n",
       "28  Conscious Skincare Grapefruit, Lemon and Cedar...      1   \n",
       "29  Conscious Skincare Pure Shampoo Sulfate Free P...      1   \n",
       "\n",
       "                                                 link  \n",
       "0   https://www.ewg.org/skindeep/product/707461/Bo...  \n",
       "1   https://www.ewg.org/skindeep/product/701926/So...  \n",
       "2   https://www.ewg.org/skindeep/product/701976/So...  \n",
       "3   https://www.ewg.org/skindeep/product/816883/Ar...  \n",
       "4   https://www.ewg.org/skindeep/product/833682/Ar...  \n",
       "5   https://www.ewg.org/skindeep/product/669787/AT...  \n",
       "6   https://www.ewg.org/skindeep/product/773165/AT...  \n",
       "7   https://www.ewg.org/skindeep/product/773168/AT...  \n",
       "8   https://www.ewg.org/skindeep/product/773166/AT...  \n",
       "9   https://www.ewg.org/skindeep/product/773169/AT...  \n",
       "10  https://www.ewg.org/skindeep/product/741537/AT...  \n",
       "11  https://www.ewg.org/skindeep/product/741538/AT...  \n",
       "12  https://www.ewg.org/skindeep/product/741541/AT...  \n",
       "13  https://www.ewg.org/skindeep/product/741539/AT...  \n",
       "14  https://www.ewg.org/skindeep/product/741542/AT...  \n",
       "15  https://www.ewg.org/skindeep/product/741540/AT...  \n",
       "16  https://www.ewg.org/skindeep/product/771236/At...  \n",
       "17  https://www.ewg.org/skindeep/product/704945/Ba...  \n",
       "18  https://www.ewg.org/skindeep/product/704942/Ba...  \n",
       "19  https://www.ewg.org/skindeep/product/705624/Ba...  \n",
       "20  https://www.ewg.org/skindeep/product/671087/Be...  \n",
       "21  https://www.ewg.org/skindeep/product/768936/Be...  \n",
       "22  https://www.ewg.org/skindeep/product/768932/Be...  \n",
       "23  https://www.ewg.org/skindeep/product/707458/Bo...  \n",
       "24  https://www.ewg.org/skindeep/product/771650/Cl...  \n",
       "25  https://www.ewg.org/skindeep/product/739623/Cl...  \n",
       "26  https://www.ewg.org/skindeep/product/739621/Cl...  \n",
       "27  https://www.ewg.org/skindeep/product/769392/Co...  \n",
       "28  https://www.ewg.org/skindeep/product/708190/Co...  \n",
       "29  https://www.ewg.org/skindeep/product/780110/Co...  "
      ]
     },
     "execution_count": 27,
     "metadata": {},
     "output_type": "execute_result"
    }
   ],
   "source": [
    "df.head(30)"
   ]
  },
  {
   "cell_type": "code",
   "execution_count": 28,
   "metadata": {},
   "outputs": [
    {
     "data": {
      "text/plain": [
       "3702"
      ]
     },
     "execution_count": 28,
     "metadata": {},
     "output_type": "execute_result"
    }
   ],
   "source": [
    "df.name.nunique()"
   ]
  },
  {
   "cell_type": "code",
   "execution_count": 31,
   "metadata": {},
   "outputs": [
    {
     "data": {
      "text/plain": [
       "count     3908\n",
       "unique       9\n",
       "top          5\n",
       "freq      1714\n",
       "Name: rating, dtype: object"
      ]
     },
     "execution_count": 31,
     "metadata": {},
     "output_type": "execute_result"
    }
   ],
   "source": [
    "df.rating.describe()"
   ]
  },
  {
   "cell_type": "code",
   "execution_count": 32,
   "metadata": {},
   "outputs": [],
   "source": [
    "with open('shampoo_rating_link.pickle', 'wb') as to_write:\n",
    "    pickle.dump(df, to_write)"
   ]
  },
  {
   "cell_type": "code",
   "execution_count": 35,
   "metadata": {},
   "outputs": [
    {
     "data": {
      "text/plain": [
       "'https://www.ewg.org/skindeep/product/707461/Boyzz_Only_No_Nonsense_Hair_%26_Body_Wash/'"
      ]
     },
     "execution_count": 35,
     "metadata": {},
     "output_type": "execute_result"
    }
   ],
   "source": [
    "df.iloc[0][2]"
   ]
  },
  {
   "cell_type": "code",
   "execution_count": null,
   "metadata": {},
   "outputs": [],
   "source": []
  }
 ],
 "metadata": {
  "kernelspec": {
   "display_name": "Python 3",
   "language": "python",
   "name": "python3"
  },
  "language_info": {
   "codemirror_mode": {
    "name": "ipython",
    "version": 3
   },
   "file_extension": ".py",
   "mimetype": "text/x-python",
   "name": "python",
   "nbconvert_exporter": "python",
   "pygments_lexer": "ipython3",
   "version": "3.6.9"
  }
 },
 "nbformat": 4,
 "nbformat_minor": 2
}
