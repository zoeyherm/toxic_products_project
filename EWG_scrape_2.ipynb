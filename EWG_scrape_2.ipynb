{
 "cells": [
  {
   "cell_type": "markdown",
   "metadata": {},
   "source": [
    "https://www.kaggle.com/albertovilla/scrapping-ewg-tap-water-database\n",
    "\n",
    "https://github.com/ravirajuv/Web-Scraping-Walmart-Using-BeautifulSoup/blob/master/Web-Scraping-Using-BeautifulSoup.ipynb"
   ]
  },
  {
   "cell_type": "code",
   "execution_count": 3,
   "metadata": {},
   "outputs": [],
   "source": [
    "from __future__ import print_function, division\n",
    "import requests\n",
    "requests.__path__\n",
    "from bs4 import BeautifulSoup\n",
    "from collections import defaultdict\n",
    "import pandas as pd\n",
    "import numpy as np\n",
    "import pickle\n",
    "import random\n",
    "import time"
   ]
  },
  {
   "cell_type": "code",
   "execution_count": 32,
   "metadata": {},
   "outputs": [],
   "source": [
    "with open('shampoo_rating_link.pickle', 'wb') as to_write:\n",
    "    pickle.dump(df, to_write)"
   ]
  },
  {
   "cell_type": "code",
   "execution_count": 4,
   "metadata": {},
   "outputs": [],
   "source": [
    "url = 'https://www.ewg.org/skindeep/product/707461/Boyzz_Only_No_Nonsense_Hair_%26_Body_Wash/'\n",
    "response = requests.get(url)\n",
    "page = response.text\n",
    "soup = BeautifulSoup(page, 'lxml')"
   ]
  },
  {
   "cell_type": "code",
   "execution_count": 62,
   "metadata": {
    "scrolled": true
   },
   "outputs": [
    {
     "data": {
      "text/plain": [
       "['COCAMIDOPROPYL BETAINE',\n",
       " 'SODIUM BENZOATE',\n",
       " 'HYDROLYZED RICE PROTEIN',\n",
       " 'GLYCERIN',\n",
       " 'ORYZA SATIVA (RICE) BRAN OIL',\n",
       " 'CARTHAMNUS TINCTORIUS (SAFFLOWER)',\n",
       " 'HYDROGENATED CASTOR OIL/SEBACIC ACID COPOLYMER',\n",
       " 'HYDROLYZED JOJOBA ESTERS',\n",
       " 'EUTERPE OLERACEA FRUIT OIL',\n",
       " 'XANTHAN GUM',\n",
       " 'HELIANTHUS ANNUUS (SUNFLOWER) OIL',\n",
       " 'TOCOPHEROL',\n",
       " 'CARRAGEENAN',\n",
       " 'LAURYL GLUCOSIDE',\n",
       " 'DECYL GLUCOSIDE',\n",
       " 'WATER']"
      ]
     },
     "execution_count": 62,
     "metadata": {},
     "output_type": "execute_result"
    }
   ],
   "source": [
    "ingredient_list = []\n",
    "\n",
    "for ingredient in soup.find_all(class_ = 'firstcol'):\n",
    "    ingredient_list.append(ingredient.find('a').text)\n",
    "    \n",
    "for item in ingredient_list:\n",
    "    if 'search' in item:    \n",
    "        ingredient_list.remove(item)\n",
    "\n",
    "for item in ingredient_list:\n",
    "    if 'http' in item:\n",
    "        ingredient_list.remove(item)\n",
    "        \n",
    "ingredient_list"
   ]
  },
  {
   "cell_type": "code",
   "execution_count": 50,
   "metadata": {},
   "outputs": [],
   "source": [
    "with open('shampoo_rating_link.pickle','rb') as read_file:\n",
    "    df = pickle.load(read_file)"
   ]
  }
 ],
 "metadata": {
  "kernelspec": {
   "display_name": "Python 3",
   "language": "python",
   "name": "python3"
  },
  "language_info": {
   "codemirror_mode": {
    "name": "ipython",
    "version": 3
   },
   "file_extension": ".py",
   "mimetype": "text/x-python",
   "name": "python",
   "nbconvert_exporter": "python",
   "pygments_lexer": "ipython3",
   "version": "3.6.9"
  }
 },
 "nbformat": 4,
 "nbformat_minor": 2
}
